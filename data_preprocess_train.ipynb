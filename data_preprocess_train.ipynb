{
  "nbformat": 4,
  "nbformat_minor": 0,
  "metadata": {
    "colab": {
      "provenance": [],
      "mount_file_id": "1c0J_1Sx1ZDsjTEhhIsJ_uKcErJKGKQyV",
      "authorship_tag": "ABX9TyPFUz8a5s6FthsqCAdFCpx3",
      "include_colab_link": true
    },
    "kernelspec": {
      "name": "python3",
      "display_name": "Python 3"
    },
    "language_info": {
      "name": "python"
    },
    "accelerator": "GPU",
    "gpuClass": "standard"
  },
  "cells": [
    {
      "cell_type": "markdown",
      "metadata": {
        "id": "view-in-github",
        "colab_type": "text"
      },
      "source": [
        "<a href=\"https://colab.research.google.com/github/AklimaRimi/who-s-talking/blob/main/data_preprocess_train.ipynb\" target=\"_parent\"><img src=\"https://colab.research.google.com/assets/colab-badge.svg\" alt=\"Open In Colab\"/></a>"
      ]
    },
    {
      "cell_type": "code",
      "execution_count": 1,
      "metadata": {
        "colab": {
          "base_uri": "https://localhost:8080/"
        },
        "id": "y9zIy3TAqFY9",
        "outputId": "99fa800a-c857-46f6-ddf9-70620d5e6bb9"
      },
      "outputs": [
        {
          "output_type": "stream",
          "name": "stdout",
          "text": [
            "Cloning into 'who-s-talking'...\n",
            "remote: Enumerating objects: 819, done.\u001b[K\n",
            "remote: Counting objects: 100% (28/28), done.\u001b[K\n",
            "remote: Compressing objects: 100% (21/21), done.\u001b[K\n",
            "remote: Total 819 (delta 8), reused 16 (delta 7), pack-reused 791\u001b[K\n",
            "Receiving objects: 100% (819/819), 15.50 GiB | 13.11 MiB/s, done.\n",
            "Resolving deltas: 100% (44/44), done.\n",
            "Updating files: 100% (650/650), done.\n"
          ]
        }
      ],
      "source": [
        "! git clone https://github.com/AklimaRimi/who-s-talking.git"
      ]
    },
    {
      "cell_type": "code",
      "source": [
        "! pip install tensorflow-io"
      ],
      "metadata": {
        "colab": {
          "base_uri": "https://localhost:8080/"
        },
        "id": "ZAQqvAvpRXTk",
        "outputId": "d0796733-51b1-43df-a622-d7d6595c188c"
      },
      "execution_count": 2,
      "outputs": [
        {
          "output_type": "stream",
          "name": "stdout",
          "text": [
            "Looking in indexes: https://pypi.org/simple, https://us-python.pkg.dev/colab-wheels/public/simple/\n",
            "Collecting tensorflow-io\n",
            "  Downloading tensorflow_io-0.32.0-cp39-cp39-manylinux_2_12_x86_64.manylinux2010_x86_64.whl (28.0 MB)\n",
            "\u001b[2K     \u001b[90m━━━━━━━━━━━━━━━━━━━━━━━━━━━━━━━━━━━━━━━━\u001b[0m \u001b[32m28.0/28.0 MB\u001b[0m \u001b[31m20.1 MB/s\u001b[0m eta \u001b[36m0:00:00\u001b[0m\n",
            "\u001b[?25hRequirement already satisfied: tensorflow-io-gcs-filesystem==0.32.0 in /usr/local/lib/python3.9/dist-packages (from tensorflow-io) (0.32.0)\n",
            "Installing collected packages: tensorflow-io\n",
            "Successfully installed tensorflow-io-0.32.0\n"
          ]
        }
      ]
    },
    {
      "cell_type": "code",
      "source": [
        "import warnings\n",
        "warnings.filterwarnings('ignore')\n",
        "import os\n",
        "import tensorflow as tf\n",
        "import tensorflow_io as tfio\n",
        "import ntpath\n",
        "import matplotlib.pyplot as plt"
      ],
      "metadata": {
        "id": "7j5T9FkdqHnk"
      },
      "execution_count": 42,
      "outputs": []
    },
    {
      "cell_type": "code",
      "source": [
        "for i in os.listdir('/content/who-s-talking/augmented-audio'):\n",
        "  print(i)"
      ],
      "metadata": {
        "colab": {
          "base_uri": "https://localhost:8080/"
        },
        "id": "NTaj6ZIlx--C",
        "outputId": "6ec52620-a4ac-4861-83bd-379cd51fbbca"
      },
      "execution_count": 4,
      "outputs": [
        {
          "output_type": "stream",
          "name": "stdout",
          "text": [
            "Les Brown\n",
            "Mel Robbins\n",
            "Nick Vujicic\n",
            "Rabin Sharma\n",
            "Eric Thomas\n",
            "Oprah Winfrey\n",
            "Simon Sinek\n",
            "Jay Shetty\n",
            "Eckhart Tolle\n",
            "Gary Vee\n",
            "Brene Brown\n"
          ]
        }
      ]
    },
    {
      "cell_type": "code",
      "source": [
        "Les_Brown = f'/content/who-s-talking/augmented-audio/Les Brown'\n",
        "Mel_Robbins = f'/content/who-s-talking/augmented-audio/Mel Robbins'\n",
        "Nick_Vujicic =f'/content/who-s-talking/augmented-audio/Nick Vujicic'\n",
        "Rabin_Sharma =f'/content/who-s-talking/augmented-audio/Rabin Sharma'\n",
        "Eric_Thomas =f'/content/who-s-talking/augmented-audio/Eric Thomas'\n",
        "Oprah_Winfrey =f'/content/who-s-talking/augmented-audio/Oprah Winfrey'\n",
        "Simon_Sinek =f'/content/who-s-talking/augmented-audio/Simon Sinek'\n",
        "Jay_Shetty =f'/content/who-s-talking/augmented-audio/Jay Shetty'\n",
        "Eckhart_Tolle =f'/content/who-s-talking/augmented-audio/Eckhart Tolle'\n",
        "Gary_Vee =f'/content/who-s-talking/augmented-audio/Gary Vee'\n",
        "Brene_Brown = f'/content/who-s-talking/augmented-audio/Brene Brown'"
      ],
      "metadata": {
        "id": "EzGIhTpkthaB"
      },
      "execution_count": 18,
      "outputs": []
    },
    {
      "cell_type": "code",
      "source": [
        "path_ls = [Les_Brown,Mel_Robbins,Nick_Vujicic,Rabin_Sharma,Eric_Thomas,\n",
        "      Oprah_Winfrey,Simon_Sinek,Jay_Shetty,Eckhart_Tolle,Gary_Vee,Brene_Brown]"
      ],
      "metadata": {
        "id": "8qIYuCY18Hwm"
      },
      "execution_count": 19,
      "outputs": []
    },
    {
      "cell_type": "code",
      "source": [
        "# for i in os.listdir(Les_Brown):\n",
        "  # print(i)"
      ],
      "metadata": {
        "id": "xD5GVPiFaihE"
      },
      "execution_count": 6,
      "outputs": []
    },
    {
      "cell_type": "code",
      "source": [
        "Les_Brown"
      ],
      "metadata": {
        "colab": {
          "base_uri": "https://localhost:8080/",
          "height": 35
        },
        "id": "oSOeALC1aamn",
        "outputId": "292e4e7c-e764-4539-8261-923a3117e3b8"
      },
      "execution_count": 7,
      "outputs": [
        {
          "output_type": "execute_result",
          "data": {
            "text/plain": [
              "'/content/who-s-talking/augmented-audio/Les Brown'"
            ],
            "application/vnd.google.colaboratory.intrinsic+json": {
              "type": "string"
            }
          },
          "metadata": {},
          "execution_count": 7
        }
      ]
    },
    {
      "cell_type": "code",
      "source": [
        "def load_wav_16k_mono(filename):\n",
        "\n",
        "  file_contents = tf.io.read_file(filename)\n",
        "  wav, sample_rate = tf.audio.decode_wav(file_contents, desired_channels=1)\n",
        "\n",
        "  wav = tf.squeeze(wav,axis = -1)\n",
        "\n",
        "  sample_rate = tf.cast(sample_rate,dtype = tf.int64)\n",
        "\n",
        "  wav = tfio.audio.resample(wav, rate_in = sample_rate, rate_out = 16000)\n",
        "\n",
        "  return wav\n",
        "\n"
      ],
      "metadata": {
        "id": "58lL6S8mtjG-"
      },
      "execution_count": 8,
      "outputs": []
    },
    {
      "cell_type": "code",
      "source": [
        "Les_Brown =     tf.data.Dataset.list_files('/content/who-s-talking/augmented-audio/Les Brown/*.wav')\n",
        "Mel_Robbins =   tf.data.Dataset.list_files('/content/who-s-talking/augmented-audio/Mel Robbins/*.wav')\n",
        "Nick_Vujicic =  tf.data.Dataset.list_files('/content/who-s-talking/augmented-audio/Nick Vujicic/*.wav')\n",
        "Rabin_Sharma =  tf.data.Dataset.list_files('/content/who-s-talking/augmented-audio/Rabin Sharma/*.wav')\n",
        "Eric_Thomas =   tf.data.Dataset.list_files('/content/who-s-talking/augmented-audio/Eric Thomas/*.wav')\n",
        "Oprah_Winfrey = tf.data.Dataset.list_files('/content/who-s-talking/augmented-audio/Oprah Winfrey/*.wav')\n",
        "Simon_Sinek =   tf.data.Dataset.list_files('/content/who-s-talking/augmented-audio/Simon Sinek/*.wav')\n",
        "Jay_Shetty =    tf.data.Dataset.list_files('/content/who-s-talking/augmented-audio/Jay Shetty/*.wav')\n",
        "Eckhart_Tolle = tf.data.Dataset.list_files('/content/who-s-talking/augmented-audio/Eckhart Tolle/*.wav')\n",
        "Gary_Vee =      tf.data.Dataset.list_files('/content/who-s-talking/augmented-audio/Gary Vee/*.wav')\n",
        "Brene_Brown =   tf.data.Dataset.list_files('/content/who-s-talking/augmented-audio/Brene Brown/*.wav')"
      ],
      "metadata": {
        "id": "RM3qttZitVeR"
      },
      "execution_count": 20,
      "outputs": []
    },
    {
      "cell_type": "code",
      "source": [
        "Les_Brown =     tf.data.Dataset.zip((Les_Brown, tf.data.Dataset.from_tensor_slices(tf.fill(dims=(len(Les_Brown),), value=0))))\n",
        "Mel_Robbins =   tf.data.Dataset.zip((Mel_Robbins, tf.data.Dataset.from_tensor_slices(tf.fill(dims=(len(Mel_Robbins),), value=1))))\n",
        "Nick_Vujicic =  tf.data.Dataset.zip((Nick_Vujicic, tf.data.Dataset.from_tensor_slices(tf.fill(dims=(len(Nick_Vujicic),), value=2))))\n",
        "Rabin_Sharma =  tf.data.Dataset.zip((Rabin_Sharma, tf.data.Dataset.from_tensor_slices(tf.fill(dims=(len(Rabin_Sharma),), value=3))))\n",
        "Eric_Thomas =   tf.data.Dataset.zip((Eric_Thomas, tf.data.Dataset.from_tensor_slices(tf.fill(dims=(len(Eric_Thomas),), value=4))))\n",
        "Oprah_Winfrey = tf.data.Dataset.zip((Oprah_Winfrey, tf.data.Dataset.from_tensor_slices(tf.fill(dims=(len(Oprah_Winfrey),), value=5))))\n",
        "Simon_Sinek =   tf.data.Dataset.zip((Simon_Sinek, tf.data.Dataset.from_tensor_slices(tf.fill(dims=(len(Simon_Sinek),), value=6))))\n",
        "Jay_Shetty =    tf.data.Dataset.zip((Jay_Shetty, tf.data.Dataset.from_tensor_slices(tf.fill(dims=(len(Jay_Shetty),), value=7))))\n",
        "Eckhart_Tolle = tf.data.Dataset.zip((Eckhart_Tolle, tf.data.Dataset.from_tensor_slices(tf.fill(dims=(len(Eckhart_Tolle),), value=8))))\n",
        "Gary_Vee =      tf.data.Dataset.zip((Gary_Vee, tf.data.Dataset.from_tensor_slices(tf.fill(dims=(len(Gary_Vee),), value=9))))\n",
        "Brene_Brown = tf.data.Dataset.zip((Brene_Brown, tf.data.Dataset.from_tensor_slices(tf.fill(dims=(len(Brene_Brown),), value=10))))"
      ],
      "metadata": {
        "id": "mwcHpeSls5HW"
      },
      "execution_count": 21,
      "outputs": []
    },
    {
      "cell_type": "code",
      "source": [
        "ls = [Les_Brown,Mel_Robbins,Nick_Vujicic,Rabin_Sharma,Eric_Thomas,\n",
        "      Oprah_Winfrey,Simon_Sinek,Jay_Shetty,Eckhart_Tolle,Gary_Vee,Brene_Brown]"
      ],
      "metadata": {
        "id": "A-VjZLCx56Gq"
      },
      "execution_count": 22,
      "outputs": []
    },
    {
      "cell_type": "code",
      "source": [
        "data = Les_Brown.concatenate(Mel_Robbins)"
      ],
      "metadata": {
        "id": "TOmQXxwD7OwB"
      },
      "execution_count": 33,
      "outputs": []
    },
    {
      "cell_type": "code",
      "source": [
        "for i in ls[2:]:\n",
        "  data = data.concatenate(i)"
      ],
      "metadata": {
        "id": "BRindPEa7UaO"
      },
      "execution_count": 37,
      "outputs": []
    },
    {
      "cell_type": "code",
      "source": [
        "len(data)"
      ],
      "metadata": {
        "colab": {
          "base_uri": "https://localhost:8080/"
        },
        "id": "ucSNx2wb7jtb",
        "outputId": "d6e8c0ec-ccde-4118-8e0b-89f9f55a5c3e"
      },
      "execution_count": 38,
      "outputs": [
        {
          "output_type": "execute_result",
          "data": {
            "text/plain": [
              "345"
            ]
          },
          "metadata": {},
          "execution_count": 38
        }
      ]
    },
    {
      "cell_type": "code",
      "source": [
        "Gary_Vee.as_numpy_iterator().next()"
      ],
      "metadata": {
        "colab": {
          "base_uri": "https://localhost:8080/"
        },
        "id": "DIb6PGR67ktD",
        "outputId": "ec8ed3f9-9129-485e-c2ee-fbb0e5701438"
      },
      "execution_count": 27,
      "outputs": [
        {
          "output_type": "execute_result",
          "data": {
            "text/plain": [
              "(b'/content/who-s-talking/augmented-audio/Gary Vee/21Gary Vee1.wav', 9)"
            ]
          },
          "metadata": {},
          "execution_count": 27
        }
      ]
    },
    {
      "cell_type": "code",
      "source": [
        "load_wav_16k_mono('/content/who-s-talking/augmented-audio/Les Brown/0Les Brown0.wav')"
      ],
      "metadata": {
        "colab": {
          "base_uri": "https://localhost:8080/"
        },
        "id": "MIL987Sm9FP9",
        "outputId": "b5f2936e-979a-4aef-df25-bbe382d072eb"
      },
      "execution_count": 30,
      "outputs": [
        {
          "output_type": "execute_result",
          "data": {
            "text/plain": [
              "<tf.Tensor: shape=(4800000,), dtype=float32, numpy=\n",
              "array([ 0.        ,  0.        ,  0.        , ..., -0.01355633,\n",
              "       -0.01083288, -0.0129936 ], dtype=float32)>"
            ]
          },
          "metadata": {},
          "execution_count": 30
        }
      ]
    },
    {
      "cell_type": "code",
      "source": [
        "len(data)"
      ],
      "metadata": {
        "colab": {
          "base_uri": "https://localhost:8080/"
        },
        "id": "R6oRMWzS-Qsu",
        "outputId": "1c1eae96-b228-467f-8b5c-fc3f45949da7"
      },
      "execution_count": 31,
      "outputs": [
        {
          "output_type": "execute_result",
          "data": {
            "text/plain": [
              "345"
            ]
          },
          "metadata": {},
          "execution_count": 31
        }
      ]
    },
    {
      "cell_type": "code",
      "source": [
        "\n",
        "def preprocess(file_path, label):\n",
        "  wav = load_wav_16k_mono(file_path)\n",
        "  wav = wav[:4800000]\n",
        "\n",
        "  spectogram = tf.signal.stft(wav, frame_length = 15000, frame_step= 1000 )\n",
        "  spectogram = tf.abs(spectogram)\n",
        "  spectogram = tf.expand_dims(spectogram, axis=2)\n",
        "  return spectogram, label\n",
        "\n"
      ],
      "metadata": {
        "id": "27shRwUi8ZrJ"
      },
      "execution_count": 71,
      "outputs": []
    },
    {
      "cell_type": "code",
      "source": [
        "sp,label = preprocess('/content/who-s-talking/augmented-audio/Gary Vee/21Gary Vee1.wav', 9)"
      ],
      "metadata": {
        "id": "msVygWJX_dyl"
      },
      "execution_count": 72,
      "outputs": []
    },
    {
      "cell_type": "code",
      "source": [
        "sp"
      ],
      "metadata": {
        "colab": {
          "base_uri": "https://localhost:8080/"
        },
        "id": "60bvoOIrAm_b",
        "outputId": "97c251aa-23fb-4665-88f7-5a2072ce4c61"
      },
      "execution_count": 73,
      "outputs": [
        {
          "output_type": "execute_result",
          "data": {
            "text/plain": [
              "<tf.Tensor: shape=(4786, 8193, 1), dtype=float32, numpy=\n",
              "array([[[1.4277101e-02],\n",
              "        [1.7346624e-02],\n",
              "        [1.7279907e-01],\n",
              "        ...,\n",
              "        [4.6834324e-05],\n",
              "        [4.1351770e-05],\n",
              "        [3.6239624e-05]],\n",
              "\n",
              "       [[1.7335415e-02],\n",
              "        [4.4060502e-02],\n",
              "        [1.5324508e-01],\n",
              "        ...,\n",
              "        [3.5695502e-05],\n",
              "        [2.9300632e-05],\n",
              "        [3.8504601e-05]],\n",
              "\n",
              "       [[1.0723650e-02],\n",
              "        [5.1290385e-02],\n",
              "        [1.4085570e-01],\n",
              "        ...,\n",
              "        [3.0771338e-05],\n",
              "        [3.5344507e-05],\n",
              "        [3.3795834e-05]],\n",
              "\n",
              "       ...,\n",
              "\n",
              "       [[7.5612700e-01],\n",
              "        [1.0305583e+00],\n",
              "        [1.3947203e+00],\n",
              "        ...,\n",
              "        [6.7288660e-05],\n",
              "        [1.1479273e-04],\n",
              "        [1.3861060e-04]],\n",
              "\n",
              "       [[6.1529267e-01],\n",
              "        [1.0033364e+00],\n",
              "        [1.4712983e+00],\n",
              "        ...,\n",
              "        [4.4506512e-05],\n",
              "        [1.0064231e-04],\n",
              "        [1.4117360e-04]],\n",
              "\n",
              "       [[4.2237750e-01],\n",
              "        [9.0394157e-01],\n",
              "        [1.4426203e+00],\n",
              "        ...,\n",
              "        [3.5884088e-05],\n",
              "        [7.7495584e-05],\n",
              "        [1.3694167e-04]]], dtype=float32)>"
            ]
          },
          "metadata": {},
          "execution_count": 73
        }
      ]
    },
    {
      "cell_type": "code",
      "source": [
        "plt.figure(figsize = (25,5))\n",
        "plt.imshow(tf.transpose(sp)[0])\n",
        "plt.show()\n"
      ],
      "metadata": {
        "colab": {
          "base_uri": "https://localhost:8080/",
          "height": 451
        },
        "id": "YfNzktMV_uO0",
        "outputId": "21a85c64-5c41-4f14-bf72-b10854b75d85"
      },
      "execution_count": 74,
      "outputs": [
        {
          "output_type": "display_data",
          "data": {
            "text/plain": [
              "<Figure size 2500x500 with 1 Axes>"
            ],
            "image/png": "[encoded data removed]"
          },
          "metadata": {}
        }
      ]
    },
    {
      "cell_type": "code",
      "source": [
        "data = data.map(preprocess)\n",
        "data = data.cache()\n",
        "data = data.shuffle(buffer_size = 42)\n",
        "data = data.batch(32)\n",
        "data = data.prefetch(16)"
      ],
      "metadata": {
        "colab": {
          "base_uri": "https://localhost:8080/"
        },
        "id": "0tf9EhUlAS7i",
        "outputId": "c6ca7ab9-6ba6-4dba-e4ae-b5cf8078d938"
      },
      "execution_count": 75,
      "outputs": [
        {
          "output_type": "stream",
          "name": "stderr",
          "text": [
            "WARNING:tensorflow:Using a while_loop for converting IO>AudioResample cause there is no registered converter for this op.\n"
          ]
        }
      ]
    },
    {
      "cell_type": "code",
      "source": [
        "train =  data.take(300)\n",
        "test = data.skip(300).take(45)"
      ],
      "metadata": {
        "id": "X18BVRL0CPkY"
      },
      "execution_count": 76,
      "outputs": []
    },
    {
      "cell_type": "code",
      "source": [
        "features, label = train.as_numpy_iterator().next()"
      ],
      "metadata": {
        "id": "-oNVof_zCkhS"
      },
      "execution_count": null,
      "outputs": []
    },
    {
      "cell_type": "code",
      "source": [
        "feature.shape()"
      ],
      "metadata": {
        "id": "PJx7Tv8GCyZj"
      },
      "execution_count": null,
      "outputs": []
    },
    {
      "cell_type": "code",
      "source": [],
      "metadata": {
        "id": "1cR_KL55C0SZ"
      },
      "execution_count": null,
      "outputs": []
    }
  ]
}